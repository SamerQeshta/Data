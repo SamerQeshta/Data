{
 "cells": [
  {
   "cell_type": "markdown",
   "id": "596d4d06",
   "metadata": {
    "papermill": {
     "duration": 0.005176,
     "end_time": "2024-03-27T12:53:22.804976",
     "exception": false,
     "start_time": "2024-03-27T12:53:22.799800",
     "status": "completed"
    },
    "tags": []
   },
   "source": [
    "# Пример для сабмита решения\n",
    "Данные содержат сведения о спросе на отели. Датасет содержит 36 275 наблюдений. Каждое наблюдение представляет собой бронирование отеля. Набор данных учитывает бронирования, которые должны прибыть в период с 2017 года по 2018 год, включая фактически поступившие и отмененные бронирования.\n",
    "\n",
    "Данные содержат сведения бронированиях в одном отеле.\n",
    "- Тренировочный набор - **24304 строк**.\n",
    "- Тестовый набор - **11971 строк**.\n",
    "\n",
    "* **id**: Уникальный идентификатор бронирования\n",
    "* **no_of_adults**: Число взрослых гостей\n",
    "* **no_of_children**: Число детей среди гостей\n",
    "* **no_of_weekend_nights**: Число ночей, приходящихся на выходные дни (суббота или воскресенье), которые гость забронировал\n",
    "* **no_of_week_nights**: Число ночей, приходящихся на будние дни (с понедельника по пятницу), которые гость забронировал\n",
    "* **type_of_meal_plan**: Тип пансиона, который выбрал гость\n",
    "* **required_car_parking_space**: Нужно ли место для парковки автомобиля гостю? (0 - Нет, 1- Да)\n",
    "* **room_type_reserved**: Тип забронированной комнаты. Реальные значения уже закодированы.\n",
    "* **lead_time**: Число дней между днем прибытия гостя в страну и началом бронирования\n",
    "* **arrival_year**: Год запланированного начала бронирования\n",
    "* **arrival_month**: Месяц запланированного начала бронирования\n",
    "* **arrival_date**: Дата запланированного начала бронирования\n",
    "* **market_segment_type**: Способ бронирования (онлайн/оффлайн)\n",
    "* **repeated_guest**: Был ли гость уже в отеле до этого бронирования? (0 - Нет, 1 - Да)\n",
    "* **no_of_previous_cancellations**: Число бронирований, которые гость уже отменял до данного бронирования\n",
    "* **no_of_previous_bookings_not_canceled**: Число бронирований, которые гость не были отменены до данного бронирования\n",
    "* **avg_price_per_room**: Средняя стоимость бронирования комнаты за день; цены образуются динамически (в евро).\n",
    "* **no_of_special_requests**: Общее число особенных пожеланий обозначенных гостем (т.е. верхний этаж, вид из окна номера и т.д.)\n",
    "\n",
    "Целевая переменная:\n",
    "- **booking_status**: 0 - Отмена или 1 - Гость приехал в отель."
   ]
  },
  {
   "cell_type": "code",
   "execution_count": 1,
   "id": "665c460d",
   "metadata": {
    "execution": {
     "iopub.execute_input": "2024-03-27T12:53:22.817243Z",
     "iopub.status.busy": "2024-03-27T12:53:22.816403Z",
     "iopub.status.idle": "2024-03-27T12:53:25.163105Z",
     "shell.execute_reply": "2024-03-27T12:53:25.161936Z"
    },
    "papermill": {
     "duration": 2.35569,
     "end_time": "2024-03-27T12:53:25.165911",
     "exception": false,
     "start_time": "2024-03-27T12:53:22.810221",
     "status": "completed"
    },
    "tags": []
   },
   "outputs": [],
   "source": [
    "# Иморитирование библиотек, которые вам скорее всего понадобятся\n",
    "import os\n",
    "import numpy as np\n",
    "import pandas as pd\n",
    "import seaborn as sns\n",
    "import matplotlib.pyplot as plt\n",
    "\n",
    "import sklearn"
   ]
  },
  {
   "cell_type": "code",
   "execution_count": 2,
   "id": "6d127794",
   "metadata": {
    "_cell_guid": "b1076dfc-b9ad-4769-8c92-a6c4dae69d19",
    "_uuid": "8f2839f25d086af736a60e9eeb907d3b93b6e0e5",
    "execution": {
     "iopub.execute_input": "2024-03-27T12:53:25.177718Z",
     "iopub.status.busy": "2024-03-27T12:53:25.176778Z",
     "iopub.status.idle": "2024-03-27T12:53:25.184006Z",
     "shell.execute_reply": "2024-03-27T12:53:25.182895Z"
    },
    "papermill": {
     "duration": 0.015884,
     "end_time": "2024-03-27T12:53:25.186616",
     "exception": false,
     "start_time": "2024-03-27T12:53:25.170732",
     "status": "completed"
    },
    "tags": []
   },
   "outputs": [
    {
     "name": "stdout",
     "output_type": "stream",
     "text": [
      "/kaggle/input/cancel-or-check-in/train.csv\n",
      "/kaggle/input/cancel-or-check-in/test.csv\n"
     ]
    }
   ],
   "source": [
    "# This Python 3 environment comes with many helpful analytics libraries installed\n",
    "# It is defined by the kaggle/python Docker image: https://github.com/kaggle/docker-python\n",
    "# For example, here's several helpful packages to load\n",
    "\n",
    "# Input data files are available in the read-only \"../input/\" directory\n",
    "# For example, running this (by clicking run or pressing Shift+Enter) will list all files under the input directory\n",
    "\n",
    "for dirname, _, filenames in os.walk('/kaggle/input'):\n",
    "    for filename in filenames:\n",
    "        print(os.path.join(dirname, filename))\n",
    "\n",
    "# You can write up to 20GB to the current directory (/kaggle/working/) that gets preserved as output when you create a version using \"Save & Run All\" \n",
    "# You can also write temporary files to /kaggle/temp/, but they won't be saved outside of the current session"
   ]
  },
  {
   "cell_type": "markdown",
   "id": "47145c58",
   "metadata": {
    "papermill": {
     "duration": 0.004517,
     "end_time": "2024-03-27T12:53:25.196577",
     "exception": false,
     "start_time": "2024-03-27T12:53:25.192060",
     "status": "completed"
    },
    "tags": []
   },
   "source": [
    "## Читаем данные"
   ]
  },
  {
   "cell_type": "code",
   "execution_count": 3,
   "id": "687e6f0e",
   "metadata": {
    "_kg_hide-input": true,
    "execution": {
     "iopub.execute_input": "2024-03-27T12:53:25.208447Z",
     "iopub.status.busy": "2024-03-27T12:53:25.207610Z",
     "iopub.status.idle": "2024-03-27T12:53:25.384224Z",
     "shell.execute_reply": "2024-03-27T12:53:25.383159Z"
    },
    "papermill": {
     "duration": 0.184883,
     "end_time": "2024-03-27T12:53:25.386232",
     "exception": false,
     "start_time": "2024-03-27T12:53:25.201349",
     "status": "completed"
    },
    "tags": []
   },
   "outputs": [
    {
     "name": "stdout",
     "output_type": "stream",
     "text": [
      "Train dataset shape: (24304, 19)\n"
     ]
    }
   ],
   "source": [
    "# Считываем тренировочные данные\n",
    "train = pd.read_csv(\"/kaggle/input/cancel-or-check-in/train.csv\")\n",
    "\n",
    "print(f\"Train dataset shape: {train.shape}\")"
   ]
  },
  {
   "cell_type": "code",
   "execution_count": 4,
   "id": "c2d3f6fc",
   "metadata": {
    "execution": {
     "iopub.execute_input": "2024-03-27T12:53:25.397814Z",
     "iopub.status.busy": "2024-03-27T12:53:25.397167Z",
     "iopub.status.idle": "2024-03-27T12:53:25.439585Z",
     "shell.execute_reply": "2024-03-27T12:53:25.438841Z"
    },
    "papermill": {
     "duration": 0.05042,
     "end_time": "2024-03-27T12:53:25.441512",
     "exception": false,
     "start_time": "2024-03-27T12:53:25.391092",
     "status": "completed"
    },
    "tags": []
   },
   "outputs": [
    {
     "name": "stdout",
     "output_type": "stream",
     "text": [
      "Test dataset shape: (11971, 18)\n"
     ]
    }
   ],
   "source": [
    "# Считываем тестовые данные\n",
    "test = pd.read_csv(\"/kaggle/input/cancel-or-check-in/test.csv\")\n",
    "\n",
    "print(f\"Test dataset shape: {test.shape}\")"
   ]
  },
  {
   "cell_type": "code",
   "execution_count": 5,
   "id": "477fad7f",
   "metadata": {
    "execution": {
     "iopub.execute_input": "2024-03-27T12:53:25.453237Z",
     "iopub.status.busy": "2024-03-27T12:53:25.452579Z",
     "iopub.status.idle": "2024-03-27T12:53:25.476973Z",
     "shell.execute_reply": "2024-03-27T12:53:25.475723Z"
    },
    "papermill": {
     "duration": 0.032737,
     "end_time": "2024-03-27T12:53:25.479195",
     "exception": false,
     "start_time": "2024-03-27T12:53:25.446458",
     "status": "completed"
    },
    "tags": []
   },
   "outputs": [
    {
     "data": {
      "text/html": [
       "<div>\n",
       "<style scoped>\n",
       "    .dataframe tbody tr th:only-of-type {\n",
       "        vertical-align: middle;\n",
       "    }\n",
       "\n",
       "    .dataframe tbody tr th {\n",
       "        vertical-align: top;\n",
       "    }\n",
       "\n",
       "    .dataframe thead th {\n",
       "        text-align: right;\n",
       "    }\n",
       "</style>\n",
       "<table border=\"1\" class=\"dataframe\">\n",
       "  <thead>\n",
       "    <tr style=\"text-align: right;\">\n",
       "      <th></th>\n",
       "      <th>Booking_ID</th>\n",
       "      <th>no_of_adults</th>\n",
       "      <th>no_of_children</th>\n",
       "      <th>no_of_weekend_nights</th>\n",
       "      <th>no_of_week_nights</th>\n",
       "      <th>type_of_meal_plan</th>\n",
       "      <th>required_car_parking_space</th>\n",
       "      <th>room_type_reserved</th>\n",
       "      <th>lead_time</th>\n",
       "      <th>arrival_year</th>\n",
       "      <th>arrival_month</th>\n",
       "      <th>arrival_date</th>\n",
       "      <th>market_segment_type</th>\n",
       "      <th>repeated_guest</th>\n",
       "      <th>no_of_previous_cancellations</th>\n",
       "      <th>no_of_previous_bookings_not_canceled</th>\n",
       "      <th>avg_price_per_room</th>\n",
       "      <th>no_of_special_requests</th>\n",
       "      <th>booking_status</th>\n",
       "    </tr>\n",
       "  </thead>\n",
       "  <tbody>\n",
       "    <tr>\n",
       "      <th>0</th>\n",
       "      <td>INN13556</td>\n",
       "      <td>2</td>\n",
       "      <td>0</td>\n",
       "      <td>2</td>\n",
       "      <td>3</td>\n",
       "      <td>Not Selected</td>\n",
       "      <td>0</td>\n",
       "      <td>Room_Type 1</td>\n",
       "      <td>59</td>\n",
       "      <td>2018</td>\n",
       "      <td>5</td>\n",
       "      <td>21</td>\n",
       "      <td>Online</td>\n",
       "      <td>0</td>\n",
       "      <td>0</td>\n",
       "      <td>0</td>\n",
       "      <td>116.10</td>\n",
       "      <td>1</td>\n",
       "      <td>0</td>\n",
       "    </tr>\n",
       "    <tr>\n",
       "      <th>1</th>\n",
       "      <td>INN08357</td>\n",
       "      <td>2</td>\n",
       "      <td>0</td>\n",
       "      <td>2</td>\n",
       "      <td>0</td>\n",
       "      <td>Not Selected</td>\n",
       "      <td>0</td>\n",
       "      <td>Room_Type 1</td>\n",
       "      <td>30</td>\n",
       "      <td>2018</td>\n",
       "      <td>9</td>\n",
       "      <td>25</td>\n",
       "      <td>Online</td>\n",
       "      <td>0</td>\n",
       "      <td>0</td>\n",
       "      <td>0</td>\n",
       "      <td>89.10</td>\n",
       "      <td>0</td>\n",
       "      <td>0</td>\n",
       "    </tr>\n",
       "    <tr>\n",
       "      <th>2</th>\n",
       "      <td>INN31336</td>\n",
       "      <td>2</td>\n",
       "      <td>0</td>\n",
       "      <td>0</td>\n",
       "      <td>2</td>\n",
       "      <td>Meal Plan 1</td>\n",
       "      <td>0</td>\n",
       "      <td>Room_Type 1</td>\n",
       "      <td>19</td>\n",
       "      <td>2018</td>\n",
       "      <td>6</td>\n",
       "      <td>22</td>\n",
       "      <td>Corporate</td>\n",
       "      <td>0</td>\n",
       "      <td>0</td>\n",
       "      <td>0</td>\n",
       "      <td>100.00</td>\n",
       "      <td>0</td>\n",
       "      <td>1</td>\n",
       "    </tr>\n",
       "    <tr>\n",
       "      <th>3</th>\n",
       "      <td>INN10369</td>\n",
       "      <td>2</td>\n",
       "      <td>0</td>\n",
       "      <td>0</td>\n",
       "      <td>3</td>\n",
       "      <td>Not Selected</td>\n",
       "      <td>0</td>\n",
       "      <td>Room_Type 1</td>\n",
       "      <td>66</td>\n",
       "      <td>2018</td>\n",
       "      <td>3</td>\n",
       "      <td>16</td>\n",
       "      <td>Online</td>\n",
       "      <td>0</td>\n",
       "      <td>0</td>\n",
       "      <td>0</td>\n",
       "      <td>73.50</td>\n",
       "      <td>0</td>\n",
       "      <td>0</td>\n",
       "    </tr>\n",
       "    <tr>\n",
       "      <th>4</th>\n",
       "      <td>INN29656</td>\n",
       "      <td>2</td>\n",
       "      <td>0</td>\n",
       "      <td>2</td>\n",
       "      <td>3</td>\n",
       "      <td>Meal Plan 1</td>\n",
       "      <td>0</td>\n",
       "      <td>Room_Type 4</td>\n",
       "      <td>93</td>\n",
       "      <td>2018</td>\n",
       "      <td>4</td>\n",
       "      <td>17</td>\n",
       "      <td>Online</td>\n",
       "      <td>0</td>\n",
       "      <td>0</td>\n",
       "      <td>0</td>\n",
       "      <td>99.45</td>\n",
       "      <td>1</td>\n",
       "      <td>1</td>\n",
       "    </tr>\n",
       "  </tbody>\n",
       "</table>\n",
       "</div>"
      ],
      "text/plain": [
       "  Booking_ID  no_of_adults  no_of_children  no_of_weekend_nights  \\\n",
       "0   INN13556             2               0                     2   \n",
       "1   INN08357             2               0                     2   \n",
       "2   INN31336             2               0                     0   \n",
       "3   INN10369             2               0                     0   \n",
       "4   INN29656             2               0                     2   \n",
       "\n",
       "   no_of_week_nights type_of_meal_plan  required_car_parking_space  \\\n",
       "0                  3      Not Selected                           0   \n",
       "1                  0      Not Selected                           0   \n",
       "2                  2       Meal Plan 1                           0   \n",
       "3                  3      Not Selected                           0   \n",
       "4                  3       Meal Plan 1                           0   \n",
       "\n",
       "  room_type_reserved  lead_time  arrival_year  arrival_month  arrival_date  \\\n",
       "0        Room_Type 1         59          2018              5            21   \n",
       "1        Room_Type 1         30          2018              9            25   \n",
       "2        Room_Type 1         19          2018              6            22   \n",
       "3        Room_Type 1         66          2018              3            16   \n",
       "4        Room_Type 4         93          2018              4            17   \n",
       "\n",
       "  market_segment_type  repeated_guest  no_of_previous_cancellations  \\\n",
       "0              Online               0                             0   \n",
       "1              Online               0                             0   \n",
       "2           Corporate               0                             0   \n",
       "3              Online               0                             0   \n",
       "4              Online               0                             0   \n",
       "\n",
       "   no_of_previous_bookings_not_canceled  avg_price_per_room  \\\n",
       "0                                     0              116.10   \n",
       "1                                     0               89.10   \n",
       "2                                     0              100.00   \n",
       "3                                     0               73.50   \n",
       "4                                     0               99.45   \n",
       "\n",
       "   no_of_special_requests  booking_status  \n",
       "0                       1               0  \n",
       "1                       0               0  \n",
       "2                       0               1  \n",
       "3                       0               0  \n",
       "4                       1               1  "
      ]
     },
     "execution_count": 5,
     "metadata": {},
     "output_type": "execute_result"
    }
   ],
   "source": [
    "# Посмотрим как выглядят данные\n",
    "train.head()"
   ]
  },
  {
   "cell_type": "code",
   "execution_count": 6,
   "id": "54317990",
   "metadata": {
    "execution": {
     "iopub.execute_input": "2024-03-27T12:53:25.492363Z",
     "iopub.status.busy": "2024-03-27T12:53:25.491727Z",
     "iopub.status.idle": "2024-03-27T12:53:25.496348Z",
     "shell.execute_reply": "2024-03-27T12:53:25.495301Z"
    },
    "papermill": {
     "duration": 0.013907,
     "end_time": "2024-03-27T12:53:25.498569",
     "exception": false,
     "start_time": "2024-03-27T12:53:25.484662",
     "status": "completed"
    },
    "tags": []
   },
   "outputs": [],
   "source": [
    "# Ваш код здесь"
   ]
  },
  {
   "cell_type": "markdown",
   "id": "ffe61884",
   "metadata": {
    "papermill": {
     "duration": 0.005035,
     "end_time": "2024-03-27T12:53:25.508895",
     "exception": false,
     "start_time": "2024-03-27T12:53:25.503860",
     "status": "completed"
    },
    "tags": []
   },
   "source": [
    "## Исследование данных\n",
    "\n",
    "Прежде чем переходить к непосредственному построению модели, в первую очередь необходимо исследовать имеющихся у вас набор данных:\n",
    "1. Какую задачу вы решаете (классификация бинарная или многоклассовая) и какая переменная является целевой?\n",
    "2. Сколько переменных в данных и какого они типа?\n",
    "3. Имеются ли в данных пропуски?\n",
    "4. Сбалансированны ли классы?"
   ]
  },
  {
   "cell_type": "code",
   "execution_count": 7,
   "id": "d2edf9c8",
   "metadata": {
    "execution": {
     "iopub.execute_input": "2024-03-27T12:53:25.521053Z",
     "iopub.status.busy": "2024-03-27T12:53:25.520398Z",
     "iopub.status.idle": "2024-03-27T12:53:25.552269Z",
     "shell.execute_reply": "2024-03-27T12:53:25.550853Z"
    },
    "papermill": {
     "duration": 0.041577,
     "end_time": "2024-03-27T12:53:25.555556",
     "exception": false,
     "start_time": "2024-03-27T12:53:25.513979",
     "status": "completed"
    },
    "tags": []
   },
   "outputs": [
    {
     "name": "stdout",
     "output_type": "stream",
     "text": [
      "<class 'pandas.core.frame.DataFrame'>\n",
      "RangeIndex: 24304 entries, 0 to 24303\n",
      "Data columns (total 19 columns):\n",
      " #   Column                                Non-Null Count  Dtype  \n",
      "---  ------                                --------------  -----  \n",
      " 0   Booking_ID                            24304 non-null  object \n",
      " 1   no_of_adults                          24304 non-null  int64  \n",
      " 2   no_of_children                        24304 non-null  int64  \n",
      " 3   no_of_weekend_nights                  24304 non-null  int64  \n",
      " 4   no_of_week_nights                     24304 non-null  int64  \n",
      " 5   type_of_meal_plan                     24304 non-null  object \n",
      " 6   required_car_parking_space            24304 non-null  int64  \n",
      " 7   room_type_reserved                    24304 non-null  object \n",
      " 8   lead_time                             24304 non-null  int64  \n",
      " 9   arrival_year                          24304 non-null  int64  \n",
      " 10  arrival_month                         24304 non-null  int64  \n",
      " 11  arrival_date                          24304 non-null  int64  \n",
      " 12  market_segment_type                   24304 non-null  object \n",
      " 13  repeated_guest                        24304 non-null  int64  \n",
      " 14  no_of_previous_cancellations          24304 non-null  int64  \n",
      " 15  no_of_previous_bookings_not_canceled  24304 non-null  int64  \n",
      " 16  avg_price_per_room                    24304 non-null  float64\n",
      " 17  no_of_special_requests                24304 non-null  int64  \n",
      " 18  booking_status                        24304 non-null  int64  \n",
      "dtypes: float64(1), int64(14), object(4)\n",
      "memory usage: 3.5+ MB\n"
     ]
    }
   ],
   "source": [
    "train.info()"
   ]
  },
  {
   "cell_type": "code",
   "execution_count": 8,
   "id": "6ae3c3ac",
   "metadata": {
    "execution": {
     "iopub.execute_input": "2024-03-27T12:53:25.568969Z",
     "iopub.status.busy": "2024-03-27T12:53:25.568183Z",
     "iopub.status.idle": "2024-03-27T12:53:25.572858Z",
     "shell.execute_reply": "2024-03-27T12:53:25.572005Z"
    },
    "papermill": {
     "duration": 0.013985,
     "end_time": "2024-03-27T12:53:25.574971",
     "exception": false,
     "start_time": "2024-03-27T12:53:25.560986",
     "status": "completed"
    },
    "tags": []
   },
   "outputs": [],
   "source": [
    "# Ваш код здесь"
   ]
  },
  {
   "cell_type": "markdown",
   "id": "3d07e79c",
   "metadata": {
    "papermill": {
     "duration": 0.0053,
     "end_time": "2024-03-27T12:53:25.586086",
     "exception": false,
     "start_time": "2024-03-27T12:53:25.580786",
     "status": "completed"
    },
    "tags": []
   },
   "source": [
    "## Предобработка данных\n",
    "\n",
    "Исходя из анализа данных, определите, какие шаги нужно выполнить для обработки набора данных, что бы сделать его пригодным для ML-модели.\n",
    "\n",
    "Подсказка:\n",
    "* Заполнение пропусков в данных\n",
    "* Кодирование категориальных признаков\n",
    "* Стандартизация/нормирование численных признаков\n",
    "* Выявление и устранение выбросов в данных"
   ]
  },
  {
   "cell_type": "code",
   "execution_count": 9,
   "id": "9a3cfc69",
   "metadata": {
    "execution": {
     "iopub.execute_input": "2024-03-27T12:53:25.599242Z",
     "iopub.status.busy": "2024-03-27T12:53:25.598431Z",
     "iopub.status.idle": "2024-03-27T12:53:25.602954Z",
     "shell.execute_reply": "2024-03-27T12:53:25.602144Z"
    },
    "papermill": {
     "duration": 0.013656,
     "end_time": "2024-03-27T12:53:25.605165",
     "exception": false,
     "start_time": "2024-03-27T12:53:25.591509",
     "status": "completed"
    },
    "tags": []
   },
   "outputs": [],
   "source": [
    "# Ваш код здесь"
   ]
  },
  {
   "cell_type": "markdown",
   "id": "22a6d179",
   "metadata": {
    "papermill": {
     "duration": 0.005581,
     "end_time": "2024-03-27T12:53:25.616259",
     "exception": false,
     "start_time": "2024-03-27T12:53:25.610678",
     "status": "completed"
    },
    "tags": []
   },
   "source": [
    "## Обучение модели\n",
    "Теперь, когда данных готовы, приступите к выборку и обучению ML-модели."
   ]
  },
  {
   "cell_type": "code",
   "execution_count": 10,
   "id": "7d84b57e",
   "metadata": {
    "execution": {
     "iopub.execute_input": "2024-03-27T12:53:25.629661Z",
     "iopub.status.busy": "2024-03-27T12:53:25.628875Z",
     "iopub.status.idle": "2024-03-27T12:53:25.633434Z",
     "shell.execute_reply": "2024-03-27T12:53:25.632698Z"
    },
    "papermill": {
     "duration": 0.013714,
     "end_time": "2024-03-27T12:53:25.635622",
     "exception": false,
     "start_time": "2024-03-27T12:53:25.621908",
     "status": "completed"
    },
    "tags": []
   },
   "outputs": [],
   "source": [
    "# Ваш код здесь"
   ]
  },
  {
   "cell_type": "markdown",
   "id": "1436a0eb",
   "metadata": {
    "papermill": {
     "duration": 0.006292,
     "end_time": "2024-03-27T12:53:25.647590",
     "exception": false,
     "start_time": "2024-03-27T12:53:25.641298",
     "status": "completed"
    },
    "tags": []
   },
   "source": [
    "## Предсказание ответа для тестового набора данных\n",
    "В конечном итоге, запишите предсказания Вашей модели для тестовых данных. \n",
    "\n",
    "Пример записи и сабмита на лидерборд приведен ниже."
   ]
  },
  {
   "cell_type": "code",
   "execution_count": 11,
   "id": "e09664a6",
   "metadata": {
    "execution": {
     "iopub.execute_input": "2024-03-27T12:53:25.661133Z",
     "iopub.status.busy": "2024-03-27T12:53:25.660299Z",
     "iopub.status.idle": "2024-03-27T12:53:25.678781Z",
     "shell.execute_reply": "2024-03-27T12:53:25.677508Z"
    },
    "papermill": {
     "duration": 0.02783,
     "end_time": "2024-03-27T12:53:25.681025",
     "exception": false,
     "start_time": "2024-03-27T12:53:25.653195",
     "status": "completed"
    },
    "tags": []
   },
   "outputs": [
    {
     "name": "stdout",
     "output_type": "stream",
     "text": [
      "Test data of size: (11971, 18)\n",
      "\n"
     ]
    },
    {
     "data": {
      "text/html": [
       "<div>\n",
       "<style scoped>\n",
       "    .dataframe tbody tr th:only-of-type {\n",
       "        vertical-align: middle;\n",
       "    }\n",
       "\n",
       "    .dataframe tbody tr th {\n",
       "        vertical-align: top;\n",
       "    }\n",
       "\n",
       "    .dataframe thead th {\n",
       "        text-align: right;\n",
       "    }\n",
       "</style>\n",
       "<table border=\"1\" class=\"dataframe\">\n",
       "  <thead>\n",
       "    <tr style=\"text-align: right;\">\n",
       "      <th></th>\n",
       "      <th>Booking_ID</th>\n",
       "      <th>no_of_adults</th>\n",
       "      <th>no_of_children</th>\n",
       "      <th>no_of_weekend_nights</th>\n",
       "      <th>no_of_week_nights</th>\n",
       "      <th>type_of_meal_plan</th>\n",
       "      <th>required_car_parking_space</th>\n",
       "      <th>room_type_reserved</th>\n",
       "      <th>lead_time</th>\n",
       "      <th>arrival_year</th>\n",
       "      <th>arrival_month</th>\n",
       "      <th>arrival_date</th>\n",
       "      <th>market_segment_type</th>\n",
       "      <th>repeated_guest</th>\n",
       "      <th>no_of_previous_cancellations</th>\n",
       "      <th>no_of_previous_bookings_not_canceled</th>\n",
       "      <th>avg_price_per_room</th>\n",
       "      <th>no_of_special_requests</th>\n",
       "    </tr>\n",
       "  </thead>\n",
       "  <tbody>\n",
       "    <tr>\n",
       "      <th>0</th>\n",
       "      <td>INN04969</td>\n",
       "      <td>2</td>\n",
       "      <td>1</td>\n",
       "      <td>1</td>\n",
       "      <td>0</td>\n",
       "      <td>Meal Plan 1</td>\n",
       "      <td>0</td>\n",
       "      <td>Room_Type 1</td>\n",
       "      <td>3</td>\n",
       "      <td>2017</td>\n",
       "      <td>8</td>\n",
       "      <td>23</td>\n",
       "      <td>Online</td>\n",
       "      <td>0</td>\n",
       "      <td>0</td>\n",
       "      <td>0</td>\n",
       "      <td>90.00</td>\n",
       "      <td>3</td>\n",
       "    </tr>\n",
       "    <tr>\n",
       "      <th>1</th>\n",
       "      <td>INN34541</td>\n",
       "      <td>2</td>\n",
       "      <td>0</td>\n",
       "      <td>1</td>\n",
       "      <td>2</td>\n",
       "      <td>Meal Plan 1</td>\n",
       "      <td>0</td>\n",
       "      <td>Room_Type 4</td>\n",
       "      <td>9</td>\n",
       "      <td>2018</td>\n",
       "      <td>2</td>\n",
       "      <td>12</td>\n",
       "      <td>Offline</td>\n",
       "      <td>0</td>\n",
       "      <td>0</td>\n",
       "      <td>0</td>\n",
       "      <td>48.67</td>\n",
       "      <td>0</td>\n",
       "    </tr>\n",
       "    <tr>\n",
       "      <th>2</th>\n",
       "      <td>INN36109</td>\n",
       "      <td>2</td>\n",
       "      <td>0</td>\n",
       "      <td>2</td>\n",
       "      <td>2</td>\n",
       "      <td>Meal Plan 1</td>\n",
       "      <td>0</td>\n",
       "      <td>Room_Type 1</td>\n",
       "      <td>24</td>\n",
       "      <td>2018</td>\n",
       "      <td>12</td>\n",
       "      <td>25</td>\n",
       "      <td>Online</td>\n",
       "      <td>0</td>\n",
       "      <td>0</td>\n",
       "      <td>0</td>\n",
       "      <td>95.20</td>\n",
       "      <td>1</td>\n",
       "    </tr>\n",
       "    <tr>\n",
       "      <th>3</th>\n",
       "      <td>INN01554</td>\n",
       "      <td>2</td>\n",
       "      <td>0</td>\n",
       "      <td>0</td>\n",
       "      <td>3</td>\n",
       "      <td>Meal Plan 1</td>\n",
       "      <td>0</td>\n",
       "      <td>Room_Type 1</td>\n",
       "      <td>23</td>\n",
       "      <td>2018</td>\n",
       "      <td>6</td>\n",
       "      <td>21</td>\n",
       "      <td>Online</td>\n",
       "      <td>0</td>\n",
       "      <td>0</td>\n",
       "      <td>0</td>\n",
       "      <td>127.67</td>\n",
       "      <td>0</td>\n",
       "    </tr>\n",
       "    <tr>\n",
       "      <th>4</th>\n",
       "      <td>INN24975</td>\n",
       "      <td>2</td>\n",
       "      <td>1</td>\n",
       "      <td>0</td>\n",
       "      <td>2</td>\n",
       "      <td>Meal Plan 1</td>\n",
       "      <td>0</td>\n",
       "      <td>Room_Type 4</td>\n",
       "      <td>9</td>\n",
       "      <td>2018</td>\n",
       "      <td>9</td>\n",
       "      <td>8</td>\n",
       "      <td>Online</td>\n",
       "      <td>0</td>\n",
       "      <td>0</td>\n",
       "      <td>0</td>\n",
       "      <td>201.50</td>\n",
       "      <td>2</td>\n",
       "    </tr>\n",
       "  </tbody>\n",
       "</table>\n",
       "</div>"
      ],
      "text/plain": [
       "  Booking_ID  no_of_adults  no_of_children  no_of_weekend_nights  \\\n",
       "0   INN04969             2               1                     1   \n",
       "1   INN34541             2               0                     1   \n",
       "2   INN36109             2               0                     2   \n",
       "3   INN01554             2               0                     0   \n",
       "4   INN24975             2               1                     0   \n",
       "\n",
       "   no_of_week_nights type_of_meal_plan  required_car_parking_space  \\\n",
       "0                  0       Meal Plan 1                           0   \n",
       "1                  2       Meal Plan 1                           0   \n",
       "2                  2       Meal Plan 1                           0   \n",
       "3                  3       Meal Plan 1                           0   \n",
       "4                  2       Meal Plan 1                           0   \n",
       "\n",
       "  room_type_reserved  lead_time  arrival_year  arrival_month  arrival_date  \\\n",
       "0        Room_Type 1          3          2017              8            23   \n",
       "1        Room_Type 4          9          2018              2            12   \n",
       "2        Room_Type 1         24          2018             12            25   \n",
       "3        Room_Type 1         23          2018              6            21   \n",
       "4        Room_Type 4          9          2018              9             8   \n",
       "\n",
       "  market_segment_type  repeated_guest  no_of_previous_cancellations  \\\n",
       "0              Online               0                             0   \n",
       "1             Offline               0                             0   \n",
       "2              Online               0                             0   \n",
       "3              Online               0                             0   \n",
       "4              Online               0                             0   \n",
       "\n",
       "   no_of_previous_bookings_not_canceled  avg_price_per_room  \\\n",
       "0                                     0               90.00   \n",
       "1                                     0               48.67   \n",
       "2                                     0               95.20   \n",
       "3                                     0              127.67   \n",
       "4                                     0              201.50   \n",
       "\n",
       "   no_of_special_requests  \n",
       "0                       3  \n",
       "1                       0  \n",
       "2                       1  \n",
       "3                       0  \n",
       "4                       2  "
      ]
     },
     "execution_count": 11,
     "metadata": {},
     "output_type": "execute_result"
    }
   ],
   "source": [
    "print(f\"Test data of size: {test.shape}\\n\")\n",
    "test.head()"
   ]
  },
  {
   "cell_type": "code",
   "execution_count": 12,
   "id": "dfd8e5db",
   "metadata": {
    "execution": {
     "iopub.execute_input": "2024-03-27T12:53:25.694413Z",
     "iopub.status.busy": "2024-03-27T12:53:25.694053Z",
     "iopub.status.idle": "2024-03-27T12:53:25.699673Z",
     "shell.execute_reply": "2024-03-27T12:53:25.698691Z"
    },
    "papermill": {
     "duration": 0.015075,
     "end_time": "2024-03-27T12:53:25.702046",
     "exception": false,
     "start_time": "2024-03-27T12:53:25.686971",
     "status": "completed"
    },
    "tags": []
   },
   "outputs": [
    {
     "name": "stdout",
     "output_type": "stream",
     "text": [
      "(11971,)\n"
     ]
    }
   ],
   "source": [
    "# Предскажите целевую переменную для тестового набора\n",
    "# y_pred_test = model.predict(test)\n",
    "\n",
    "# А в примере сгененируем ее случайно из равномерного дискретного распределения\n",
    "y_pred_test = np.random.randint(0, 2, size=(test.shape[0]), dtype=int)\n",
    "print(y_pred_test.shape)"
   ]
  },
  {
   "cell_type": "code",
   "execution_count": 13,
   "id": "d44fae4e",
   "metadata": {
    "execution": {
     "iopub.execute_input": "2024-03-27T12:53:25.716583Z",
     "iopub.status.busy": "2024-03-27T12:53:25.715411Z",
     "iopub.status.idle": "2024-03-27T12:53:25.734444Z",
     "shell.execute_reply": "2024-03-27T12:53:25.733550Z"
    },
    "papermill": {
     "duration": 0.028594,
     "end_time": "2024-03-27T12:53:25.736663",
     "exception": false,
     "start_time": "2024-03-27T12:53:25.708069",
     "status": "completed"
    },
    "tags": []
   },
   "outputs": [],
   "source": [
    "y_pred_test = pd.DataFrame(y_pred_test, columns=['is_canceled'])\n",
    "y_pred_test = y_pred_test.reset_index()\n",
    "\n",
    "y_pred_test.to_csv(\"solution.csv\", index=False)"
   ]
  },
  {
   "cell_type": "code",
   "execution_count": null,
   "id": "3b65cac0",
   "metadata": {
    "papermill": {
     "duration": 0.005707,
     "end_time": "2024-03-27T12:53:25.748436",
     "exception": false,
     "start_time": "2024-03-27T12:53:25.742729",
     "status": "completed"
    },
    "tags": []
   },
   "outputs": [],
   "source": []
  }
 ],
 "metadata": {
  "kaggle": {
   "accelerator": "none",
   "dataSources": [
    {
     "databundleVersionId": 8016461,
     "sourceId": 72720,
     "sourceType": "competition"
    }
   ],
   "dockerImageVersionId": 30673,
   "isGpuEnabled": false,
   "isInternetEnabled": true,
   "language": "python",
   "sourceType": "notebook"
  },
  "kernelspec": {
   "display_name": "Python 3",
   "language": "python",
   "name": "python3"
  },
  "language_info": {
   "codemirror_mode": {
    "name": "ipython",
    "version": 3
   },
   "file_extension": ".py",
   "mimetype": "text/x-python",
   "name": "python",
   "nbconvert_exporter": "python",
   "pygments_lexer": "ipython3",
   "version": "3.10.13"
  },
  "papermill": {
   "default_parameters": {},
   "duration": 6.261795,
   "end_time": "2024-03-27T12:53:26.375251",
   "environment_variables": {},
   "exception": null,
   "input_path": "__notebook__.ipynb",
   "output_path": "__notebook__.ipynb",
   "parameters": {},
   "start_time": "2024-03-27T12:53:20.113456",
   "version": "2.5.0"
  }
 },
 "nbformat": 4,
 "nbformat_minor": 5
}
